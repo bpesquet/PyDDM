{
  "nbformat": 4,
  "nbformat_minor": 0,
  "metadata": {
    "colab": {
      "name": "interactive_demo.ipynb",
      "provenance": []
    },
    "kernelspec": {
      "name": "python3",
      "display_name": "Python 3"
    }
  },
  "cells": [
    {
      "cell_type": "markdown",
      "source": [
        "# PyDDM online demo\n",
        "\n",
        "This is an interactive demo of a GDDM with leaky integration and exponentially collapsing bounds.\n",
        "\n",
        "This demo can be run like a normal Jupyter notebook.  If you've never used Jupyter notebooks before, hover over both headings below (\"Install PyDDM on Google Colab\" and \"Define the model and run the GUI\") and press the play button on each.  An interactive demo will show below.  To make changes to the model and try out your changes, click on \"Show code\" and edit it.  When you are done, click on the play button again to update the demo."
      ],
      "metadata": {
        "id": "VR0h1HdvBVED"
      }
    },
    {
      "cell_type": "code",
      "metadata": {
        "id": "OSvz7UeUtiiU",
        "cellView": "form"
      },
      "source": [
        "#@title Install PyDDM on Google Colab\n",
        "!pip -q install git+https://github.com/mwshinn/PyDDM"
      ],
      "execution_count": null,
      "outputs": []
    },
    {
      "cell_type": "code",
      "metadata": {
        "id": "LyBBVtpquqv2",
        "cellView": "form"
      },
      "source": [
        "#@title Define the model and run the GUI\n",
        "import pyddm as ddm\n",
        "import pyddm.plot\n",
        "\n",
        "class DriftLeak(ddm.Drift):\n",
        "    name = \"Leaky drift\"\n",
        "    required_parameters = [\"drift\", \"leak\"]\n",
        "    def get_drift(self, x, **kwargs):\n",
        "        return self.drift - self.leak*x\n",
        "\n",
        "model = ddm.Model(drift=DriftLeak(drift=ddm.Fittable(minval=0, maxval=3, default=.1),\n",
        "                                  leak=ddm.Fittable(minval=-2, maxval=2, default=1)),\n",
        "                  noise=ddm.NoiseConstant(noise=ddm.Fittable(minval=.001, maxval=2, default=.5)),\n",
        "                  bound=ddm.BoundCollapsingExponential(B=ddm.Fittable(minval=.5, maxval=1.5, default=1),\n",
        "                                                       tau=ddm.Fittable(minval=.1, maxval=5, default=1)),\n",
        "                  dx=.01, dt=.01, T_dur=2)\n",
        "pyddm.plot.model_gui_jupyter(model=model)"
      ],
      "execution_count": null,
      "outputs": []
    }
  ]
}

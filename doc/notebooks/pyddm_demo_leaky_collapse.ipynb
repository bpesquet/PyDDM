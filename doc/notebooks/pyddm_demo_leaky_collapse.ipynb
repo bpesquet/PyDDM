{
  "nbformat": 4,
  "nbformat_minor": 0,
  "metadata": {
    "colab": {
      "name": "pyddm_demo_leaky_collapse.ipynb",
      "provenance": [],
      "collapsed_sections": []
    },
    "kernelspec": {
      "name": "python3",
      "display_name": "Python 3"
    }
  },
  "cells": [
    {
      "cell_type": "code",
      "metadata": {
        "id": "OSvz7UeUtiiU",
        "colab_type": "code",
        "colab": {},
        "cellView": "form"
      },
      "source": [
        "#@title Install PyDDM\n",
        "!pip -q install git+https://github.com/mwshinn/PyDDM"
      ],
      "execution_count": null,
      "outputs": []
    },
    {
      "cell_type": "code",
      "metadata": {
        "id": "3iK4GCFktsOs",
        "colab_type": "code",
        "colab": {},
        "cellView": "form"
      },
      "source": [
        "#@title Define leaky integration\n",
        "import pyddm as ddm\n",
        "class DriftLeak(ddm.Drift):\n",
        "    name = \"Leaky drift\"\n",
        "    required_parameters = [\"drift\", \"leak\"]\n",
        "    def get_drift(self, x, **kwargs):\n",
        "        return self.drift - self.leak*x"
      ],
      "execution_count": 8,
      "outputs": []
    },
    {
      "cell_type": "code",
      "metadata": {
        "id": "LyBBVtpquqv2",
        "colab_type": "code",
        "colab": {},
        "cellView": "form"
      },
      "source": [
        "#@title Run the model GUI\n",
        "import pyddm.plot\n",
        "model = ddm.Model(drift=DriftLeak(drift=ddm.Fittable(minval=0, maxval=3, default=.1),\n",
        "                                  leak=ddm.Fittable(minval=-2, maxval=2, default=1)),  \n",
        "                  noise=ddm.NoiseConstant(noise=ddm.Fittable(minval=.001, maxval=2, default=.5)),\n",
        "                  bound=ddm.BoundCollapsingExponential(B=ddm.Fittable(minval=.5, maxval=1.5, default=1),\n",
        "                                                       tau=ddm.Fittable(minval=.1, maxval=5, default=1)),\n",
        "                  dx=.01, dt=.01, T_dur=2)\n",
        "pyddm.plot.model_gui_jupyter(model=model)"
      ],
      "execution_count": null,
      "outputs": []
    }
  ]
}

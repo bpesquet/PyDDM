{
  "nbformat": 4,
  "nbformat_minor": 0,
  "metadata": {
    "colab": {
      "name": "shinn2020.ipynb",
      "provenance": [],
      "collapsed_sections": []
    },
    "kernelspec": {
      "name": "python3",
      "display_name": "Python 3"
    }
  },
  "cells": [
    {
      "cell_type": "code",
      "metadata": {
        "id": "Oh6yDSMGH_Oh",
        "colab_type": "code",
        "colab": {},
        "cellView": "form"
      },
      "source": [
        "#@title Install PyDDM and download the script containing the models\n",
        "!pip -q install git+https://github.com/mwshinn/PyDDM\n",
        "import hashlib\n",
        "import requests\n",
        "import os\n",
        "\n",
        "fname = \"shinn2020.py\"\n",
        "url = \"https://raw.githubusercontent.com/mwshinn/PyDDM/master/doc/downloads/shinn2020.py\"\n",
        "\n",
        "if not os.path.isfile(fname):\n",
        "    r = requests.get(url)\n",
        "    if r.status_code != requests.codes.ok:\n",
        "      print(\"!!! Failed to download data !!!\")\n",
        "    else:\n",
        "      with open(fname, \"wb\") as fid:\n",
        "        fid.write(r.content)"
      ],
      "execution_count": null,
      "outputs": []
    },
    {
      "cell_type": "code",
      "metadata": {
        "id": "6j69Yujze5Xg",
        "colab_type": "code",
        "colab": {},
        "cellView": "form"
      },
      "source": [
        "#@title Visualize the model from Shinn et al (2020)\n",
        "try:\n",
        "    from pyddm import Model, Fitted, OverlayNone, OverlayPoissonMixture, OverlayChain, OverlayNonDecision\n",
        "    import pyddm.plot\n",
        "    from shinn2020 import DriftShinn2020, NoiseShinn2020, BoundCollapsingExponentialDelay, ICPoint, OverlayMappingError\n",
        "except ImportError:\n",
        "    raise ImportError(\"Please run the previous cell to install PyDDM and download the script before trying to visualize the model\")\n",
        "m = Model(name='Collapsing bounds model from Shinn et al (2020)', \n",
        "          drift=DriftShinn2020(snr=Fitted(9.318192711041897, minval=0.5, maxval=40), \n",
        "                               noise=Fitted(1.026120377999896, minval=0.01, maxval=4), \n",
        "                               t1=0, t1slope=0, cohexp=1, maxcoh=70, \n",
        "                               leak=Fitted(7.1429314579797385, minval=0.01, maxval=40), \n",
        "                               leaktarget=Fitted(0.08630984715844775, minval=0, maxval=0.9)), \n",
        "          noise=NoiseShinn2020(noise=Fitted(1.026120377999896, minval=0.01, maxval=4), t1=0, t1slope=0), \n",
        "          bound=BoundCollapsingExponentialDelay(B=1, \n",
        "                                                tau=Fitted(1.1859413319935954, minval=0.1, maxval=10), \n",
        "                                            t1=Fitted(0.3611682749713456, minval=0, maxval=1)), \n",
        "          IC=ICPoint(x0=Fitted(0.08630984715844775, minval=0, maxval=0.9)), \n",
        "          overlay=OverlayChain(overlays=[OverlayNonDecision(nondectime=Fitted(0.21768400393149134, minval=0.1, maxval=0.3)), \n",
        "                                         OverlayMappingError(mappingcoef=Fitted(0.11815235699328804, minval=0, maxval=0.2)), \n",
        "                                         OverlayPoissonMixture(pmixturecoef=Fitted(0.042431596838114934, minval=0.001, maxval=0.1), \n",
        "                                                               rate=Fitted(1.0219359822883225, minval=0.1, maxval=2))]), \n",
        "          dx=0.01, dt=0.01, T_dur=3.0)\n",
        "\n",
        "\n",
        "pyddm.plot.model_gui_jupyter(m, conditions={\"coherence\": [50, 53, 60, 70],\n",
        "                                          \"presample\": [0, 400, 800],\n",
        "                                          \"highreward\": [0, 1]})"
      ],
      "execution_count": null,
      "outputs": []
    }
  ]
}

{
  "nbformat": 4,
  "nbformat_minor": 0,
  "metadata": {
    "colab": {
      "name": "shinn2021.ipynb",
      "provenance": [],
      "collapsed_sections": []
    },
    "kernelspec": {
      "name": "python3",
      "display_name": "Python 3"
    },
    "language_info": {
      "name": "python"
    }
  },
  "cells": [
    {
      "cell_type": "code",
      "metadata": {
        "colab": {
          "base_uri": "https://localhost:8080/"
        },
        "cellView": "form",
        "id": "A8jmYB64Upa7",
        "outputId": "f8e6c27c-9450-44b5-ba7b-59a20944bdce"
      },
      "source": [
        "#@title Install PyDDM and download the script containing the models\n",
        "!pip -q install git+https://github.com/mwshinn/PyDDM\n",
        "import hashlib\n",
        "import requests\n",
        "import os\n",
        "\n",
        "fname = \"shinn2020.py\"\n",
        "url = \"https://raw.githubusercontent.com/mwshinn/PyDDM/master/doc/downloads/shinn2021.py\"\n",
        "\n",
        "if not os.path.isfile(fname):\n",
        "    r = requests.get(url)\n",
        "    if r.status_code != requests.codes.ok:\n",
        "      print(\"!!! Failed to download data !!!\")\n",
        "    else:\n",
        "      with open(fname, \"wb\") as fid:\n",
        "        fid.write(r.content)"
      ],
      "execution_count": 1,
      "outputs": [
        {
          "output_type": "stream",
          "name": "stdout",
          "text": [
            "  Building wheel for pyddm (setup.py) ... \u001b[?25l\u001b[?25hdone\n"
          ]
        }
      ]
    },
    {
      "cell_type": "code",
      "metadata": {
        "id": "WSOqerRqVduh"
      },
      "source": [
        "DIPTYPE = 1 # Set to 1, 2, or 3 depending on which model you would like to visualize"
      ],
      "execution_count": null,
      "outputs": []
    },
    {
      "cell_type": "code",
      "metadata": {
        "cellView": "form",
        "id": "tIj7z3VtUsTv"
      },
      "source": [
        "#@title Visualize the models from Shinn et al (2021) - Transient neuronal suppression for exploitation of new sensory evidence\n",
        "import ddm\n",
        "import ddm.plot\n",
        "from shinn2021 import DriftDip, NoiseDip, ICPoint, BoundDip, OverlayDipRatio\n",
        "\n",
        "DIPTYPE = 1 # Change to 1, 2, or 3 depending on which model you want\n",
        "snr = ddm.Fittable(minval=0.5, maxval=20, default=9.243318909157688)\n",
        "leak = ddm.Fittable(minval=-10, maxval=30, default=9.46411355874963)\n",
        "x0 = ddm.Fittable(minval=-.5, maxval=.5, default=0.1294632585920082)\n",
        "leaktargramp = ddm.Fittable(minval=0, maxval=3, default=0)\n",
        "noise = ddm.Fittable(minval=.2, maxval=2, default=1.1520906498077081)\n",
        "t1 = ddm.Fittable(minval=0, maxval=1, default=0.34905555600815663)\n",
        "t1slope = ddm.Fittable(minval=0, maxval=3, default=1.9643425020687162)\n",
        "\n",
        "dipstart = ddm.Fittable(minval=-.4, maxval=0, default=-.2)\n",
        "dipstop = ddm.Fittable(minval=0, maxval=.5, default=.05)\n",
        "nondectime = ddm.Fittable(minval=0, maxval=.3, default=.1)\n",
        "detect = ddm.Fittable(minval=2, maxval=50, default=10)\n",
        "diptype = DIPTYPE\n",
        "dipparam = ddm.Fittable(minval=0, maxval=50) if diptype == 2 else 0\n",
        "pmixturecoef = ddm.Fittable(minval=0, maxval=.2, default=.03)\n",
        "rate = ddm.Fittable(minval=.1, maxval=10, default=1)\n",
        "m = ddm.Model(drift=                 DriftDip(snr=snr,\n",
        "                                              noise=noise,\n",
        "                                              t1=t1,\n",
        "                                              t1slope=t1slope,\n",
        "                                              leak=leak,\n",
        "                                              maxcoh=70,\n",
        "                                              leaktarget=x0,\n",
        "                                              leaktargramp=leaktargramp,\n",
        "                                              dipstart=dipstart,\n",
        "                                              dipstop=dipstop,\n",
        "                                              diptype=diptype,\n",
        "                                              dipparam=dipparam,\n",
        "                                              ),\n",
        "              noise=                 NoiseDip(noise=noise,\n",
        "                                              t1=t1,\n",
        "                                              t1slope=t1slope,\n",
        "                                              dipstart=dipstart,\n",
        "                                              dipstop=dipstop,\n",
        "                                              diptype=diptype,\n",
        "                                              ),\n",
        "              IC=                     ICPoint(x0=x0),\n",
        "              bound=                 BoundDip(B=1,\n",
        "                                              dipstart=dipstart,\n",
        "                                              dipstop=dipstop,\n",
        "                                              diptype=diptype\n",
        "                                              ),\n",
        "              overlay=ddm.OverlayChain(overlays=[\n",
        "                                ddm.OverlayNonDecision(nondectime=nondectime),\n",
        "                                        OverlayDipRatio(detect=detect,\n",
        "                                                        diptype=diptype),\n",
        "                              ddm.OverlayPoissonMixture(pmixturecoef=pmixturecoef,\n",
        "                                                        rate=rate)\n",
        "                                        ]),\n",
        "              dx=0.002, dt=0.002, T_dur=3.0)\n",
        "# END demo\n",
        "ddm.plot.model_gui_jupyter(model=m, conditions={\"coherence\": [50, 53, 60, 70], \"presample\": [0, 400, 800], \"highreward\": [0, 1]})\n"
      ],
      "execution_count": null,
      "outputs": []
    }
  ]
}